{
 "cells": [
  {
   "cell_type": "code",
   "execution_count": 16,
   "id": "1fef4f88",
   "metadata": {},
   "outputs": [
    {
     "name": "stdout",
     "output_type": "stream",
     "text": [
      "The autoreload extension is already loaded. To reload it, use:\n",
      "  %reload_ext autoreload\n"
     ]
    }
   ],
   "source": [
    "import json\n",
    "import re\n",
    "import sys\n",
    "import io\n",
    "from contextlib import redirect_stdout\n",
    "sys.path.append('/home/codeforces_sft/evaluation')\n",
    "from grader import run_tests\n",
    "\n",
    "%load_ext autoreload\n",
    "%autoreload 2"
   ]
  },
  {
   "cell_type": "code",
   "execution_count": 38,
   "id": "1026f1c2",
   "metadata": {},
   "outputs": [
    {
     "name": "stdout",
     "output_type": "stream",
     "text": [
      "1\n",
      "9\n",
      "0\n",
      "351\n",
      "1\n",
      "34371\n",
      "\n",
      "TLE\n",
      "Time Limit Exceeded on test 1\n",
      "\n",
      "----------------------------------------------------------------------------------------------------\n",
      "TLE\n",
      "Time Limit Exceeded on test 1\n",
      "\n",
      "----------------------------------------------------------------------------------------------------\n",
      "WA\n",
      "Wrong Answer on test 1\n",
      "1\n",
      "4\n",
      "0\n",
      "0\n",
      "1\n",
      "32337\n",
      "----------------------------------------------------------------------------------------------------\n",
      "TLE\n",
      "Time Limit Exceeded on test 1\n",
      "\n",
      "----------------------------------------------------------------------------------------------------\n",
      "TLE\n",
      "Time Limit Exceeded on test 1\n",
      "\n",
      "----------------------------------------------------------------------------------------------------\n",
      "TLE\n",
      "Time Limit Exceeded on test 1\n",
      "\n",
      "----------------------------------------------------------------------------------------------------\n",
      "WA\n",
      "Wrong Answer on test 1\n",
      "2\n",
      "5\n",
      "0\n",
      "0\n",
      "1\n",
      "12830\n",
      "----------------------------------------------------------------------------------------------------\n",
      "WA\n",
      "Wrong Answer on test 1\n",
      "2\n",
      "10\n",
      "0\n",
      "0\n",
      "1\n",
      "34372\n",
      "----------------------------------------------------------------------------------------------------\n"
     ]
    }
   ],
   "source": [
    "path = '/home/codeforces_sft/eval_outputs/coder_model/__root__hf__models__models--Qwen--Qwen2.5-Coder-7B-Instruct__snapshots__c03e6d358207e414f1eca0bb1891e29f1db0e242/samples_codeforces_2025-07-30T20-44-57.072660.jsonl'\n",
    "\n",
    "with open(path, 'r') as f:\n",
    "    data = [json.loads(line) for line in f]\n",
    "for i, problem in enumerate(data):\n",
    "    time_limit = problem['doc']['time_limit']\n",
    "    memory_limit = problem['doc']['memory_limit']\n",
    "    checker_fn = problem['doc']['generated_checker']\n",
    "    print(problem['doc']['official_tests'][0]['output'])\n",
    "    for resp in problem['resps'][0]:\n",
    "        logs = run_tests(resp, problem['doc']['official_tests'], checker_fn, time_limit, memory_limit)\n",
    "        for test_log in logs:\n",
    "            print(test_log['status'])\n",
    "            print(test_log['message'])\n",
    "            print(test_log['actual'])\n",
    "        print('-'*100)\n",
    "    break"
   ]
  }
 ],
 "metadata": {
  "kernelspec": {
   "display_name": "sft",
   "language": "python",
   "name": "python3"
  },
  "language_info": {
   "codemirror_mode": {
    "name": "ipython",
    "version": 3
   },
   "file_extension": ".py",
   "mimetype": "text/x-python",
   "name": "python",
   "nbconvert_exporter": "python",
   "pygments_lexer": "ipython3",
   "version": "3.11.13"
  }
 },
 "nbformat": 4,
 "nbformat_minor": 5
}
