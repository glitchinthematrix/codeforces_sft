{
 "cells": [
  {
   "cell_type": "code",
   "execution_count": 77,
   "id": "1fef4f88",
   "metadata": {},
   "outputs": [
    {
     "name": "stdout",
     "output_type": "stream",
     "text": [
      "The autoreload extension is already loaded. To reload it, use:\n",
      "  %reload_ext autoreload\n"
     ]
    }
   ],
   "source": [
    "import json\n",
    "import re\n",
    "import sys\n",
    "import io\n",
    "from contextlib import redirect_stdout\n",
    "sys.path.append('/home/codeforces_sft/evaluation')\n",
    "from grader import run_tests\n",
    "\n",
    "%load_ext autoreload\n",
    "%autoreload 2"
   ]
  },
  {
   "cell_type": "code",
   "execution_count": 136,
   "id": "1026f1c2",
   "metadata": {},
   "outputs": [
    {
     "name": "stdout",
     "output_type": "stream",
     "text": [
      "AC\n",
      "Accepted (test 1)\n",
      "Expected:\n",
      "1\n",
      "9\n",
      "0\n",
      "351\n",
      "1\n",
      "34371\n",
      "\n",
      "Actual:\n",
      "1\n",
      "9\n",
      "0\n",
      "351\n",
      "1\n",
      "34371\n",
      "\n",
      "Raw repr expected: '1\\r\\n9\\r\\n0\\r\\n351\\r\\n1\\r\\n34371\\r\\n'\n",
      "Raw repr actual: '1\\n9\\n0\\n351\\n1\\n34371\\n'\n",
      "----------------------------------------------------------------------------------------------------\n"
     ]
    }
   ],
   "source": [
    "path = '/home/codeforces_sft/eval_outputs/sft_model/parallel_scaling/__root__hf__models__codeforces_sft_qwen_2.5_7b_instruct_bs16_lr3e-5_epoch5_wd1e-4__/samples_codeforces_2025-08-01T20-19-08.880382.jsonl'\n",
    "\n",
    "with open(path, 'r') as f:\n",
    "    data = [json.loads(line) for line in f]\n",
    "for i, problem in enumerate(data):\n",
    "    # print(f'Problem {i+1}:')\n",
    "    time_limit = problem['doc']['time_limit']\n",
    "    memory_limit = problem['doc']['memory_limit']\n",
    "    checker_fn = problem['doc']['generated_checker']\n",
    "    # print(problem['arguments']['gen_args_0']['arg_0'])\n",
    "    # print(problem['arguments']['gen_args_0']['arg_1'])\n",
    "    for resp in problem['resps'][0][9:10]:\n",
    "        # print(resp)\n",
    "        logs = run_tests(resp, problem['doc']['official_tests'], checker_fn, time_limit, memory_limit)\n",
    "        for test_log in logs:\n",
    "            print(test_log['status'])\n",
    "            print(test_log['message'])\n",
    "            \n",
    "            if 'actual' in test_log:\n",
    "                if test_log['actual'] != '':\n",
    "                    print('Expected:')\n",
    "                    print(test_log['expected'])\n",
    "                    print('Actual:')\n",
    "                    print(test_log['actual'])    \n",
    "                    # Display the string with special characters and bytes, but not actual/expected\n",
    "                    print('Raw repr expected:', repr(test_log['expected']))\n",
    "                    print('Raw repr actual:', repr(test_log['actual']))\n",
    "                    \n",
    "        print('-'*100)\n",
    "    \n",
    "    break\n",
    "\n",
    "    "
   ]
  }
 ],
 "metadata": {
  "kernelspec": {
   "display_name": "sft",
   "language": "python",
   "name": "python3"
  },
  "language_info": {
   "codemirror_mode": {
    "name": "ipython",
    "version": 3
   },
   "file_extension": ".py",
   "mimetype": "text/x-python",
   "name": "python",
   "nbconvert_exporter": "python",
   "pygments_lexer": "ipython3",
   "version": "3.11.13"
  }
 },
 "nbformat": 4,
 "nbformat_minor": 5
}
