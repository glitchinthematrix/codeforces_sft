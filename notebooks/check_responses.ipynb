{
 "cells": [
  {
   "cell_type": "code",
   "execution_count": 2,
   "id": "1fef4f88",
   "metadata": {},
   "outputs": [],
   "source": [
    "import json\n"
   ]
  },
  {
   "cell_type": "code",
   "execution_count": null,
   "id": "1026f1c2",
   "metadata": {},
   "outputs": [
    {
     "name": "stdout",
     "output_type": "stream",
     "text": [
      "6\n",
      "1 2\n",
      "1 10\n",
      "49 49\n",
      "69 420\n",
      "1 1\n",
      "9982 44353\n",
      "\n",
      "1\n",
      "9\n",
      "0\n",
      "351\n",
      "1\n",
      "34371\n",
      "\n",
      "import math\n",
      "\n",
      "def gcd(a, b):\n",
      "    if b == 0:\n",
      "        return a\n",
      "    return gcd(b, a % b)\n",
      "\n",
      "def count_minimal_coprime_segments(l, r):\n",
      "    count = 0\n",
      "    for i in range(l, r + 1):\n",
      "        for j in range(i, r + 1):\n",
      "            if gcd(i, j) == 1:\n",
      "                is_minimal_coprime = True\n",
      "                for k in range(i + 1, j):\n",
      "                    if gcd(i, k) == 1 and gcd(k, j) == 1:\n",
      "                        is_minimal_coprime = False\n",
      "                        break\n",
      "                if is_minimal_coprime:\n",
      "                    count += 1\n",
      "    return count\n",
      "\n",
      "def main():\n",
      "    t = int(input())\n",
      "    for _ in range(t):\n",
      "        l, r = map(int, input().split())\n",
      "        print(count_minimal_coprime_segments(l, r))\n",
      "\n",
      "if __name__ == \"__main__\":\n",
      "    main()\n",
      "Output: ''\n"
     ]
    }
   ],
   "source": [
    "import re\n",
    "import sys\n",
    "import io\n",
    "from contextlib import redirect_stdout\n",
    "\n",
    "path = '/home/codeforces_sft/eval_outputs/base_model/__root__hf__models__models--Qwen--Qwen2.5-7B__snapshots__d149729398750b98c0af14eb82c78cfe92750796__/samples_codeforces_16_2025-07-30T02-48-57.711343.jsonl'\n",
    "\n",
    "with open(path, 'r') as f:\n",
    "    data = [json.loads(line) for line in f]\n",
    "\n",
    "input = data[0]['doc']['official_tests'][0]['input']\n",
    "output = data[0]['doc']['official_tests'][0]['output']\n",
    "time_limit = data[0]['doc']['time_limit']\n",
    "print(input)\n",
    "print(output)\n",
    "for resps in data[0]['resps'][0]:\n",
    "    \n",
    "    code_match = re.search(r\"```python(.*?)(```|$)\", resps, re.DOTALL)\n",
    "\n",
    "    if code_match:\n",
    "        code = code_match.group(1).strip()\n",
    "        print(code)\n",
    "        # Redirect stdin to the input string\n",
    "        old_stdin = sys.stdin\n",
    "        sys.stdin = io.StringIO(input)\n",
    "        f = io.StringIO()\n",
    "        try:\n",
    "            with redirect_stdout(f):\n",
    "                exec(code, {})\n",
    "            out = f.getvalue()\n",
    "            print(\"Output:\", repr(out))\n",
    "        except Exception as e:\n",
    "            print(f\"Execution error: {e}\")\n",
    "        finally:\n",
    "            sys.stdin = old_stdin\n",
    "    else:\n",
    "        print(\"No python code block found.\")\n",
    "    break\n",
    "    # print('-'*100)"
   ]
  }
 ],
 "metadata": {
  "kernelspec": {
   "display_name": "sft",
   "language": "python",
   "name": "python3"
  },
  "language_info": {
   "codemirror_mode": {
    "name": "ipython",
    "version": 3
   },
   "file_extension": ".py",
   "mimetype": "text/x-python",
   "name": "python",
   "nbconvert_exporter": "python",
   "pygments_lexer": "ipython3",
   "version": "3.11.13"
  }
 },
 "nbformat": 4,
 "nbformat_minor": 5
}
